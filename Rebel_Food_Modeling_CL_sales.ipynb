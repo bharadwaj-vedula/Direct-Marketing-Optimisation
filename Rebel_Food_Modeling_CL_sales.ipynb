{
  "nbformat": 4,
  "nbformat_minor": 0,
  "metadata": {
    "colab": {
      "provenance": [],
      "toc_visible": true,
      "mount_file_id": "1sPJaS0GKocN5Fa_selOCtvAdFMWBPCn1",
      "authorship_tag": "ABX9TyMghdEulKeNPPOGNiK3FmDf",
      "include_colab_link": true
    },
    "kernelspec": {
      "name": "python3",
      "display_name": "Python 3"
    },
    "language_info": {
      "name": "python"
    }
  },
  "cells": [
    {
      "cell_type": "markdown",
      "metadata": {
        "id": "view-in-github",
        "colab_type": "text"
      },
      "source": [
        "<a href=\"https://colab.research.google.com/github/bharadwaj-vedula/Direct-Marketing-Optimisation/blob/main/Rebel_Food_Modeling_CL_sales.ipynb\" target=\"_parent\"><img src=\"https://colab.research.google.com/assets/colab-badge.svg\" alt=\"Open In Colab\"/></a>"
      ]
    },
    {
      "cell_type": "markdown",
      "source": [
        "# Imports"
      ],
      "metadata": {
        "id": "kJRRAp4th9EX"
      }
    },
    {
      "cell_type": "code",
      "source": [
        "!pip install Optuna"
      ],
      "metadata": {
        "colab": {
          "base_uri": "https://localhost:8080/"
        },
        "id": "yOK1vRcIPBNb",
        "outputId": "fff9cd98-1863-452b-a873-29e96ed4820e"
      },
      "execution_count": 1,
      "outputs": [
        {
          "output_type": "stream",
          "name": "stdout",
          "text": [
            "Collecting Optuna\n",
            "  Downloading optuna-4.4.0-py3-none-any.whl.metadata (17 kB)\n",
            "Collecting alembic>=1.5.0 (from Optuna)\n",
            "  Downloading alembic-1.16.2-py3-none-any.whl.metadata (7.3 kB)\n",
            "Collecting colorlog (from Optuna)\n",
            "  Downloading colorlog-6.9.0-py3-none-any.whl.metadata (10 kB)\n",
            "Requirement already satisfied: numpy in /usr/local/lib/python3.11/dist-packages (from Optuna) (2.0.2)\n",
            "Requirement already satisfied: packaging>=20.0 in /usr/local/lib/python3.11/dist-packages (from Optuna) (24.2)\n",
            "Requirement already satisfied: sqlalchemy>=1.4.2 in /usr/local/lib/python3.11/dist-packages (from Optuna) (2.0.41)\n",
            "Requirement already satisfied: tqdm in /usr/local/lib/python3.11/dist-packages (from Optuna) (4.67.1)\n",
            "Requirement already satisfied: PyYAML in /usr/local/lib/python3.11/dist-packages (from Optuna) (6.0.2)\n",
            "Requirement already satisfied: Mako in /usr/lib/python3/dist-packages (from alembic>=1.5.0->Optuna) (1.1.3)\n",
            "Requirement already satisfied: typing-extensions>=4.12 in /usr/local/lib/python3.11/dist-packages (from alembic>=1.5.0->Optuna) (4.14.0)\n",
            "Requirement already satisfied: greenlet>=1 in /usr/local/lib/python3.11/dist-packages (from sqlalchemy>=1.4.2->Optuna) (3.2.3)\n",
            "Downloading optuna-4.4.0-py3-none-any.whl (395 kB)\n",
            "\u001b[2K   \u001b[90m━━━━━━━━━━━━━━━━━━━━━━━━━━━━━━━━━━━━━━━━\u001b[0m \u001b[32m395.9/395.9 kB\u001b[0m \u001b[31m22.6 MB/s\u001b[0m eta \u001b[36m0:00:00\u001b[0m\n",
            "\u001b[?25hDownloading alembic-1.16.2-py3-none-any.whl (242 kB)\n",
            "\u001b[2K   \u001b[90m━━━━━━━━━━━━━━━━━━━━━━━━━━━━━━━━━━━━━━━━\u001b[0m \u001b[32m242.7/242.7 kB\u001b[0m \u001b[31m18.7 MB/s\u001b[0m eta \u001b[36m0:00:00\u001b[0m\n",
            "\u001b[?25hDownloading colorlog-6.9.0-py3-none-any.whl (11 kB)\n",
            "Installing collected packages: colorlog, alembic, Optuna\n",
            "Successfully installed Optuna-4.4.0 alembic-1.16.2 colorlog-6.9.0\n"
          ]
        }
      ]
    },
    {
      "cell_type": "code",
      "source": [
        "import warnings\n",
        "\n",
        "# Ignore all warnings\n",
        "warnings.filterwarnings('ignore')"
      ],
      "metadata": {
        "id": "MWxuJppoR5jI"
      },
      "execution_count": 2,
      "outputs": []
    },
    {
      "cell_type": "code",
      "execution_count": 21,
      "metadata": {
        "id": "rxvMcSSzgjBr"
      },
      "outputs": [],
      "source": [
        "import os\n",
        "import pandas as pd\n",
        "import numpy as np\n",
        "from collections import Counter\n",
        "\n",
        "import seaborn as sns\n",
        "import matplotlib.pyplot as plt\n",
        "\n",
        "import optuna\n",
        "\n",
        "from xgboost import XGBRegressor\n",
        "\n",
        "from sklearn.model_selection import train_test_split,KFold,cross_val_score\n",
        "from sklearn.metrics import root_mean_squared_error as rmse\n",
        "from sklearn.metrics import mean_absolute_error as mae\n",
        "from sklearn.metrics import mean_squared_error as mse\n",
        "from sklearn.metrics import r2_score"
      ]
    },
    {
      "cell_type": "markdown",
      "source": [
        "# Paths"
      ],
      "metadata": {
        "id": "sLqMqkqDiEB2"
      }
    },
    {
      "cell_type": "code",
      "source": [
        "class config:\n",
        "  path = '/content/drive/MyDrive/Rebel Foods Assignment/DataScientist_CaseStudy_Dataset  (1) (1).xlsx'"
      ],
      "metadata": {
        "id": "COsTYL9IiDkd"
      },
      "execution_count": 4,
      "outputs": []
    },
    {
      "cell_type": "code",
      "source": [
        "df_dem = pd.read_excel(config.path,sheet_name = 'Soc_Dem')\n",
        "df_actBalance = pd.read_excel(config.path,sheet_name = 'Products_ActBalance')\n",
        "df_inflowOutflow = pd.read_excel(config.path, sheet_name = 'Inflow_Outflow')\n",
        "df_salesRevenue = pd.read_excel(config.path,sheet_name = 'Sales_Revenues')"
      ],
      "metadata": {
        "id": "fOSfQwLdiOsZ"
      },
      "execution_count": 5,
      "outputs": []
    },
    {
      "cell_type": "markdown",
      "source": [
        "# Consumer Loan Regression Model"
      ],
      "metadata": {
        "id": "Nn0-YxxB0moP"
      }
    },
    {
      "cell_type": "markdown",
      "source": [
        "### Data Perp\n",
        "\n",
        "1. NaNs can be filled with zero as most of them are realted to count and balances.\n",
        "\n"
      ],
      "metadata": {
        "id": "FUIH7dce1C2_"
      }
    },
    {
      "cell_type": "code",
      "source": [
        "cl_clients = df_salesRevenue.loc[df_salesRevenue['Sale_CL'] == 1]['Client'].tolist()"
      ],
      "metadata": {
        "id": "AnoFP0GTx3CT"
      },
      "execution_count": 25,
      "outputs": []
    },
    {
      "cell_type": "code",
      "source": [
        "df = df_dem.merge(df_actBalance, how= 'inner',on='Client').merge(df_inflowOutflow,how= 'inner',on='Client').merge(df_salesRevenue,how= 'inner',on='Client')\n"
      ],
      "metadata": {
        "id": "1MWFAbD91Rp4"
      },
      "execution_count": 26,
      "outputs": []
    },
    {
      "cell_type": "code",
      "source": [
        "df = df.loc[df['Sale_CL'] == 1]\n",
        "print(df.shape)"
      ],
      "metadata": {
        "colab": {
          "base_uri": "https://localhost:8080/"
        },
        "id": "CXfE-mJuxLAS",
        "outputId": "eeb2e28c-14d5-450a-906f-0890e9bbe8d6"
      },
      "execution_count": 27,
      "outputs": [
        {
          "output_type": "stream",
          "name": "stdout",
          "text": [
            "(289, 36)\n"
          ]
        }
      ]
    },
    {
      "cell_type": "code",
      "source": [
        "sexMapping = {'F':np.int16(0),'M':np.int16(1)}\n",
        "df['Sex'] = df['Sex'].map(sexMapping)\n",
        "df.fillna(0,inplace= True)"
      ],
      "metadata": {
        "id": "_7jAJ2AQ7XBO"
      },
      "execution_count": 28,
      "outputs": []
    },
    {
      "cell_type": "code",
      "source": [
        "df.drop(columns = ['Sale_CC', 'Sale_CL','Sale_MF', 'Revenue_CC', 'Revenue_MF'], inplace= True)"
      ],
      "metadata": {
        "id": "63XKXhlz7RET"
      },
      "execution_count": 29,
      "outputs": []
    },
    {
      "cell_type": "code",
      "source": [
        "df.columns"
      ],
      "metadata": {
        "colab": {
          "base_uri": "https://localhost:8080/"
        },
        "id": "ZBClOZ6T-asC",
        "outputId": "a2a5d65f-5e13-4903-898d-fe5496947846"
      },
      "execution_count": 30,
      "outputs": [
        {
          "output_type": "execute_result",
          "data": {
            "text/plain": [
              "Index(['Client', 'Sex', 'Age', 'Tenure', 'Count_CA', 'Count_SA', 'Count_MF',\n",
              "       'Count_OVD', 'Count_CC', 'Count_CL', 'ActBal_CA', 'ActBal_SA',\n",
              "       'ActBal_MF', 'ActBal_OVD', 'ActBal_CC', 'ActBal_CL', 'VolumeCred',\n",
              "       'VolumeCred_CA', 'TransactionsCred', 'TransactionsCred_CA', 'VolumeDeb',\n",
              "       'VolumeDeb_CA', 'VolumeDebCash_Card', 'VolumeDebCashless_Card',\n",
              "       'VolumeDeb_PaymentOrder', 'TransactionsDeb', 'TransactionsDeb_CA',\n",
              "       'TransactionsDebCash_Card', 'TransactionsDebCashless_Card',\n",
              "       'TransactionsDeb_PaymentOrder', 'Revenue_CL'],\n",
              "      dtype='object')"
            ]
          },
          "metadata": {},
          "execution_count": 30
        }
      ]
    },
    {
      "cell_type": "markdown",
      "source": [
        "## Train Test Split"
      ],
      "metadata": {
        "id": "0e0eEiSw-778"
      }
    },
    {
      "cell_type": "code",
      "source": [
        "df_train , df_test = train_test_split( df, test_size= 0.2)"
      ],
      "metadata": {
        "id": "_ctfpgc55I0g"
      },
      "execution_count": 31,
      "outputs": []
    },
    {
      "cell_type": "code",
      "source": [
        "# Assuming 'data' is your pandas DataFrame and 'column_name' is the column to analyze\n",
        "Q1 = df_train['Revenue_CL'].quantile(0.25)\n",
        "Q3 = df_train['Revenue_CL'].quantile(0.75)\n",
        "IQR = Q3 - Q1\n",
        "lower_bound = Q1 - 1.5 * IQR\n",
        "upper_bound = Q3 + 1.5 * IQR\n",
        "print(IQR)\n",
        "print(lower_bound)\n",
        "print(upper_bound)"
      ],
      "metadata": {
        "colab": {
          "base_uri": "https://localhost:8080/"
        },
        "id": "ALK_y54GYyfb",
        "outputId": "50c28a94-8d02-4c24-8788-f0e45b1f60a5"
      },
      "execution_count": 32,
      "outputs": [
        {
          "output_type": "stream",
          "name": "stdout",
          "text": [
            "9.251071428571429\n",
            "-7.626607142857143\n",
            "29.37767857142857\n"
          ]
        }
      ]
    },
    {
      "cell_type": "code",
      "source": [
        "print(df_train.shape)\n",
        "df_train = df_train[(df_train['Revenue_CL'] >= lower_bound) & (df_train['Revenue_CL'] <= upper_bound)]\n",
        "print(df_train.shape)"
      ],
      "metadata": {
        "colab": {
          "base_uri": "https://localhost:8080/"
        },
        "id": "eJ8Q3MxfZC8q",
        "outputId": "d3983dbc-43c6-4360-fca4-24f11aabc8de"
      },
      "execution_count": 33,
      "outputs": [
        {
          "output_type": "stream",
          "name": "stdout",
          "text": [
            "(231, 31)\n",
            "(226, 31)\n"
          ]
        }
      ]
    },
    {
      "cell_type": "code",
      "source": [
        "X = df_train.iloc[:,1:-1]\n",
        "y = df_train.iloc[:,-1]\n",
        "\n",
        "y_transformed = np.log1p(y)"
      ],
      "metadata": {
        "id": "R9aIYtCN_KMG"
      },
      "execution_count": 34,
      "outputs": []
    },
    {
      "cell_type": "code",
      "source": [
        "X_test = df_test.iloc[:,1:-1]\n",
        "y_test = df_test.iloc[:,-1]\n",
        "\n",
        "y_test_transformed = np.log1p(y_test)\n",
        "print(X_test.shape,y_test.shape)"
      ],
      "metadata": {
        "colab": {
          "base_uri": "https://localhost:8080/"
        },
        "id": "8lEdHgqVV052",
        "outputId": "32ebbce3-f895-45f9-d2d2-e5c8efdfead2"
      },
      "execution_count": 35,
      "outputs": [
        {
          "output_type": "stream",
          "name": "stdout",
          "text": [
            "(58, 29) (58,)\n"
          ]
        }
      ]
    },
    {
      "cell_type": "code",
      "source": [
        "sns.histplot(y_transformed, bins=10, kde=True)"
      ],
      "metadata": {
        "colab": {
          "base_uri": "https://localhost:8080/",
          "height": 0
        },
        "id": "dkoBB7iQSTI1",
        "outputId": "aab3e1ad-1de1-406e-add0-4cd13fc2665b"
      },
      "execution_count": 36,
      "outputs": [
        {
          "output_type": "execute_result",
          "data": {
            "text/plain": [
              "<Axes: xlabel='Revenue_CL', ylabel='Count'>"
            ]
          },
          "metadata": {},
          "execution_count": 36
        },
        {
          "output_type": "display_data",
          "data": {
            "text/plain": [
              "<Figure size 640x480 with 1 Axes>"
            ],
            "image/png": "[encoded data removed]"
          },
          "metadata": {}
        }
      ]
    },
    {
      "cell_type": "code",
      "source": [
        "sns.histplot(y_test_transformed, bins=10, kde=True)"
      ],
      "metadata": {
        "colab": {
          "base_uri": "https://localhost:8080/",
          "height": 0
        },
        "id": "bQnMVB-8Qzms",
        "outputId": "08b1ffc1-d04c-4fe9-b687-421096fa88bc"
      },
      "execution_count": 37,
      "outputs": [
        {
          "output_type": "execute_result",
          "data": {
            "text/plain": [
              "<Axes: xlabel='Revenue_CL', ylabel='Count'>"
            ]
          },
          "metadata": {},
          "execution_count": 37
        },
        {
          "output_type": "display_data",
          "data": {
            "text/plain": [
              "<Figure size 640x480 with 1 Axes>"
            ],
            "image/png": "[encoded data removed]"
          },
          "metadata": {}
        }
      ]
    },
    {
      "cell_type": "markdown",
      "source": [
        "# Hyperparameter"
      ],
      "metadata": {
        "id": "2WV4ob8G2jZY"
      }
    },
    {
      "cell_type": "code",
      "source": [
        "def objective_regressor(trial):\n",
        "    \"\"\"\n",
        "    Objective function for Optuna to optimize for XGBRegressor.\n",
        "    It trains an XGBoost Regressor with suggested hyperparameters and returns the\n",
        "    cross-validated negative RMSE score (to be maximized by Optuna).\n",
        "    \"\"\"\n",
        "    param = {\n",
        "        'objective': 'reg:squarederror',\n",
        "        'eval_metric': 'mae',\n",
        "        'booster': trial.suggest_categorical('booster', ['gbtree', 'dart']),\n",
        "        'tree_method': 'hist',\n",
        "        'n_estimators': trial.suggest_int('n_estimators', 50, 1000),\n",
        "        'learning_rate': trial.suggest_float('learning_rate', 0.01, 0.3, log=True),\n",
        "        'max_depth': trial.suggest_int('max_depth', 3, 10),\n",
        "        'subsample': trial.suggest_float('subsample', 0.6, 1.0),\n",
        "\n",
        "\n",
        "        'colsample_bytree': trial.suggest_float('colsample_bytree', 0.6, 1.0),\n",
        "        'colsample_bylevel': trial.suggest_float('colsample_bylevel', 0.6, 1.0),\n",
        "        'colsample_bynode': trial.suggest_float('colsample_bynode', 0.6, 1.0),\n",
        "\n",
        "        'min_child_weight': trial.suggest_float('min_child_weight', 1e-2, 10.0, log=True),\n",
        "        'gamma': trial.suggest_float('gamma', 1e-8, 0.5, log=True),\n",
        "        'lambda': trial.suggest_float('lambda', 1e-8, 100.0, log=True),\n",
        "        'alpha': trial.suggest_float('alpha', 1e-8, 100.0, log=True),\n",
        "        'random_state': 2025,\n",
        "        'n_jobs': -1,\n",
        "        'early_stopping_rounds':100\n",
        "    }\n",
        "\n",
        "    if param['booster'] == 'dart':\n",
        "        param['sample_type'] = trial.suggest_categorical('sample_type', ['uniform', 'weighted'])\n",
        "        param['normalize_type'] = trial.suggest_categorical('normalize_type', ['tree', 'forest'])\n",
        "        param['rate_drop'] = trial.suggest_float('rate_drop', 0.0, 0.5)\n",
        "        param['skip_drop'] = trial.suggest_float('skip_drop', 0.0, 0.5)\n",
        "\n",
        "    kf = KFold(n_splits=5, shuffle=True, random_state=2025)\n",
        "    mae_scores = []\n",
        "\n",
        "    for train_index, val_index in kf.split(X, y_transformed):\n",
        "        X_train_fold, X_val_fold = X.iloc[train_index], X.iloc[val_index]\n",
        "        y_train_fold, y_val_fold = y_transformed.iloc[train_index], y_transformed.iloc[val_index]\n",
        "\n",
        "        model = XGBRegressor(**param)\n",
        "\n",
        "        model.fit(X_train_fold, y_train_fold,\n",
        "                  eval_set=[(X_val_fold, y_val_fold)],\n",
        "                  verbose=False)\n",
        "\n",
        "        val_preds_transformed = model.predict(X_val_fold)\n",
        "\n",
        "        # inverse transform the target variables\n",
        "        val_preds_original_scale = np.expm1(val_preds_transformed)\n",
        "        val_preds_original_scale[val_preds_original_scale < 0] = 0\n",
        "\n",
        "        y_val_orig_for_rmse = y.iloc[val_index]\n",
        "\n",
        "        # Calculate RMSE for the fold\n",
        "        s = mae(y_val_orig_for_rmse, val_preds_original_scale)\n",
        "        mae_scores.append(s)\n",
        "\n",
        "    return np.mean(mae_scores)"
      ],
      "metadata": {
        "id": "WIlVL1QG2mKH"
      },
      "execution_count": 38,
      "outputs": []
    },
    {
      "cell_type": "code",
      "source": [
        "study_regressor = optuna.create_study(direction='minimize', sampler=optuna.samplers.TPESampler(seed=2025))\n",
        "print(\"Starting Optuna hyperparameter tuning for XGBRegressor...\")\n",
        "study_regressor.optimize(objective_regressor, n_trials=50, show_progress_bar=True)\n",
        "print(\"Optuna tuning complete.\")\n"
      ],
      "metadata": {
        "id": "3h25de-33e4e"
      },
      "execution_count": null,
      "outputs": []
    },
    {
      "cell_type": "code",
      "source": [
        "print(\"\\nBest trial (XGBRegressor optimization):\")\n",
        "trial_regressor = study_regressor.best_trial\n",
        "\n",
        "print(f\"  Value (Mean CV MAE): {trial_regressor.value:.4f}\")\n",
        "print(\"  Best Parameters:\")\n",
        "for key, value in trial_regressor.params.items():\n",
        "    print(f\"    {key}: {value}\")"
      ],
      "metadata": {
        "colab": {
          "base_uri": "https://localhost:8080/"
        },
        "id": "ZlBjnO-xbRCj",
        "outputId": "52a3373e-1f38-42a1-bf9c-0c31d1f3346e"
      },
      "execution_count": 42,
      "outputs": [
        {
          "output_type": "stream",
          "name": "stdout",
          "text": [
            "\n",
            "Best trial (XGBRegressor optimization):\n",
            "  Value (Mean CV MAE): -4.6995\n",
            "  Best Parameters:\n",
            "    booster: dart\n",
            "    n_estimators: 605\n",
            "    learning_rate: 0.23359168433479016\n",
            "    max_depth: 8\n",
            "    subsample: 0.8344001207052097\n",
            "    colsample_bytree: 0.7614512026512243\n",
            "    colsample_bylevel: 0.8554250198744228\n",
            "    colsample_bynode: 0.9311909030957197\n",
            "    min_child_weight: 0.1765659908298804\n",
            "    gamma: 2.0790351173853375e-06\n",
            "    lambda: 81.38044823767244\n",
            "    alpha: 0.1307081695947841\n",
            "    sample_type: weighted\n",
            "    normalize_type: tree\n",
            "    rate_drop: 0.00426091730751477\n",
            "    skip_drop: 0.01745096636088567\n"
          ]
        }
      ]
    },
    {
      "cell_type": "code",
      "source": [
        "best_params_regressor = trial_regressor.params\n",
        "final_model_regressor = XGBRegressor(**best_params_regressor,\n",
        "                                         objective='reg:squarederror',\n",
        "                                         eval_metric='mae',\n",
        "                                         early_stopping_rounds = 100,\n",
        "                                          random_state=2025, n_jobs=-1)\n",
        "\n",
        "print(\"\\nTraining final XGBRegressor model with best parameters...\")\n",
        "final_model_regressor.fit(X, y_transformed,\n",
        "                          eval_set=[(X_test, y_test_transformed)],\n",
        "                          verbose=True)\n",
        "\n",
        "print(\"\\nEvaluating final XGBRegressor model on test set:\")\n",
        "\n",
        "y_test_preds_transformed = final_model_regressor.predict(X_test)\n",
        "\n",
        "# inverse transform the target variable\n",
        "y_test_preds_original_scale = np.expm1(y_test_preds_transformed)\n",
        "\n",
        "# Calculate regression metrics\n",
        "test_rmse = np.sqrt(mse(y_test, y_test_preds_original_scale))\n",
        "test_mae = mae(y_test, y_test_preds_original_scale)\n",
        "test_r2 = r2_score(y_test, y_test_preds_original_scale)\n",
        "\n",
        "print(f\"Test RMSE: {test_rmse:.4f}\")\n",
        "print(f\"Test MAE: {test_mae:.4f}\")\n",
        "print(f\"Test R-squared: {test_r2:.4f}\")"
      ],
      "metadata": {
        "colab": {
          "base_uri": "https://localhost:8080/"
        },
        "id": "8WSuuf3nbZxl",
        "outputId": "1fdf440d-fadc-4fa7-8cad-b7ba2c187fda"
      },
      "execution_count": 43,
      "outputs": [
        {
          "output_type": "stream",
          "name": "stdout",
          "text": [
            "\n",
            "Training final XGBRegressor model with best parameters...\n",
            "[0]\tvalidation_0-mae:0.51663\n",
            "[1]\tvalidation_0-mae:0.51737\n",
            "[2]\tvalidation_0-mae:0.51686\n",
            "[3]\tvalidation_0-mae:0.51793\n",
            "[4]\tvalidation_0-mae:0.51612\n",
            "[5]\tvalidation_0-mae:0.51623\n",
            "[6]\tvalidation_0-mae:0.51879\n",
            "[7]\tvalidation_0-mae:0.52269\n",
            "[8]\tvalidation_0-mae:0.52679\n",
            "[9]\tvalidation_0-mae:0.52902\n",
            "[10]\tvalidation_0-mae:0.53140\n",
            "[11]\tvalidation_0-mae:0.53554\n",
            "[12]\tvalidation_0-mae:0.53416\n",
            "[13]\tvalidation_0-mae:0.53849\n",
            "[14]\tvalidation_0-mae:0.54300\n",
            "[15]\tvalidation_0-mae:0.54452\n",
            "[16]\tvalidation_0-mae:0.54477\n",
            "[17]\tvalidation_0-mae:0.54677\n",
            "[18]\tvalidation_0-mae:0.54481\n",
            "[19]\tvalidation_0-mae:0.54712\n",
            "[20]\tvalidation_0-mae:0.55142\n",
            "[21]\tvalidation_0-mae:0.55384\n",
            "[22]\tvalidation_0-mae:0.55562\n",
            "[23]\tvalidation_0-mae:0.55705\n",
            "[24]\tvalidation_0-mae:0.55921\n",
            "[25]\tvalidation_0-mae:0.56205\n",
            "[26]\tvalidation_0-mae:0.56315\n",
            "[27]\tvalidation_0-mae:0.56350\n",
            "[28]\tvalidation_0-mae:0.56303\n",
            "[29]\tvalidation_0-mae:0.56446\n",
            "[30]\tvalidation_0-mae:0.56391\n",
            "[31]\tvalidation_0-mae:0.56301\n",
            "[32]\tvalidation_0-mae:0.56385\n",
            "[33]\tvalidation_0-mae:0.56364\n",
            "[34]\tvalidation_0-mae:0.56593\n",
            "[35]\tvalidation_0-mae:0.56537\n",
            "[36]\tvalidation_0-mae:0.56346\n",
            "[37]\tvalidation_0-mae:0.56399\n",
            "[38]\tvalidation_0-mae:0.56411\n",
            "[39]\tvalidation_0-mae:0.56514\n",
            "[40]\tvalidation_0-mae:0.56682\n",
            "[41]\tvalidation_0-mae:0.56908\n",
            "[42]\tvalidation_0-mae:0.56870\n",
            "[43]\tvalidation_0-mae:0.57102\n",
            "[44]\tvalidation_0-mae:0.57242\n",
            "[45]\tvalidation_0-mae:0.57407\n",
            "[46]\tvalidation_0-mae:0.57527\n",
            "[47]\tvalidation_0-mae:0.57538\n",
            "[48]\tvalidation_0-mae:0.57557\n",
            "[49]\tvalidation_0-mae:0.57524\n",
            "[50]\tvalidation_0-mae:0.57655\n",
            "[51]\tvalidation_0-mae:0.57631\n",
            "[52]\tvalidation_0-mae:0.57646\n",
            "[53]\tvalidation_0-mae:0.57687\n",
            "[54]\tvalidation_0-mae:0.57658\n",
            "[55]\tvalidation_0-mae:0.57787\n",
            "[56]\tvalidation_0-mae:0.58090\n",
            "[57]\tvalidation_0-mae:0.58012\n",
            "[58]\tvalidation_0-mae:0.58203\n",
            "[59]\tvalidation_0-mae:0.58239\n",
            "[60]\tvalidation_0-mae:0.58344\n",
            "[61]\tvalidation_0-mae:0.58313\n",
            "[62]\tvalidation_0-mae:0.58406\n",
            "[63]\tvalidation_0-mae:0.58438\n",
            "[64]\tvalidation_0-mae:0.58367\n",
            "[65]\tvalidation_0-mae:0.58381\n",
            "[66]\tvalidation_0-mae:0.58403\n",
            "[67]\tvalidation_0-mae:0.58670\n",
            "[68]\tvalidation_0-mae:0.58714\n",
            "[69]\tvalidation_0-mae:0.58857\n",
            "[70]\tvalidation_0-mae:0.58927\n",
            "[71]\tvalidation_0-mae:0.58936\n",
            "[72]\tvalidation_0-mae:0.58999\n",
            "[73]\tvalidation_0-mae:0.59139\n",
            "[74]\tvalidation_0-mae:0.59170\n",
            "[75]\tvalidation_0-mae:0.59115\n",
            "[76]\tvalidation_0-mae:0.59137\n",
            "[77]\tvalidation_0-mae:0.59237\n",
            "[78]\tvalidation_0-mae:0.59275\n",
            "[79]\tvalidation_0-mae:0.59399\n",
            "[80]\tvalidation_0-mae:0.59376\n",
            "[81]\tvalidation_0-mae:0.59415\n",
            "[82]\tvalidation_0-mae:0.59495\n",
            "[83]\tvalidation_0-mae:0.59476\n",
            "[84]\tvalidation_0-mae:0.59571\n",
            "[85]\tvalidation_0-mae:0.59651\n",
            "[86]\tvalidation_0-mae:0.59768\n",
            "[87]\tvalidation_0-mae:0.59793\n",
            "[88]\tvalidation_0-mae:0.59817\n",
            "[89]\tvalidation_0-mae:0.59839\n",
            "[90]\tvalidation_0-mae:0.59896\n",
            "[91]\tvalidation_0-mae:0.59884\n",
            "[92]\tvalidation_0-mae:0.59898\n",
            "[93]\tvalidation_0-mae:0.60015\n",
            "[94]\tvalidation_0-mae:0.59988\n",
            "[95]\tvalidation_0-mae:0.59974\n",
            "[96]\tvalidation_0-mae:0.60051\n",
            "[97]\tvalidation_0-mae:0.60059\n",
            "[98]\tvalidation_0-mae:0.60055\n",
            "[99]\tvalidation_0-mae:0.60065\n",
            "[100]\tvalidation_0-mae:0.60080\n",
            "[101]\tvalidation_0-mae:0.60130\n",
            "[102]\tvalidation_0-mae:0.60073\n",
            "[103]\tvalidation_0-mae:0.60091\n",
            "\n",
            "Evaluating final XGBRegressor model on test set:\n",
            "Test RMSE: 17.9013\n",
            "Test MAE: 7.6468\n",
            "Test R-squared: -0.0612\n"
          ]
        }
      ]
    },
    {
      "cell_type": "markdown",
      "source": [
        "# Save Model"
      ],
      "metadata": {
        "id": "WBv2VpvnffCM"
      }
    },
    {
      "cell_type": "code",
      "source": [
        "final_model_regressor.save_model('/content/drive/MyDrive/Rebel Foods Assignment/Models/XGBRegressor_CL.json')"
      ],
      "metadata": {
        "id": "cxxrfidOfg2x"
      },
      "execution_count": 44,
      "outputs": []
    },
    {
      "cell_type": "code",
      "source": [],
      "metadata": {
        "id": "6MHk8IN4ftP1"
      },
      "execution_count": null,
      "outputs": []
    }
  ]
}
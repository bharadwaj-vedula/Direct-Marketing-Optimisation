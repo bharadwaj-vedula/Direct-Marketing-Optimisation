{
  "nbformat": 4,
  "nbformat_minor": 0,
  "metadata": {
    "colab": {
      "provenance": [],
      "toc_visible": true,
      "mount_file_id": "1-jYST2P6zjlkpnTzCxpaObIIhHq5Nawd",
      "authorship_tag": "ABX9TyPAXrJ1LGo4wuxUQh9cWRqS",
      "include_colab_link": true
    },
    "kernelspec": {
      "name": "python3",
      "display_name": "Python 3"
    },
    "language_info": {
      "name": "python"
    }
  },
  "cells": [
    {
      "cell_type": "markdown",
      "metadata": {
        "id": "view-in-github",
        "colab_type": "text"
      },
      "source": [
        "<a href=\"https://colab.research.google.com/github/bharadwaj-vedula/Direct-Marketing-Optimisation/blob/main/Rebel_Foods_Modeling_MF_Sales.ipynb\" target=\"_parent\"><img src=\"https://colab.research.google.com/assets/colab-badge.svg\" alt=\"Open In Colab\"/></a>"
      ]
    },
    {
      "cell_type": "markdown",
      "source": [
        "# Imports"
      ],
      "metadata": {
        "id": "kJRRAp4th9EX"
      }
    },
    {
      "cell_type": "code",
      "source": [
        "!pip install Optuna"
      ],
      "metadata": {
        "colab": {
          "base_uri": "https://localhost:8080/"
        },
        "id": "yOK1vRcIPBNb",
        "outputId": "e5578aac-b9ad-4786-98eb-e0e037e0bc35"
      },
      "execution_count": 1,
      "outputs": [
        {
          "output_type": "stream",
          "name": "stdout",
          "text": [
            "Collecting Optuna\n",
            "  Downloading optuna-4.4.0-py3-none-any.whl.metadata (17 kB)\n",
            "Collecting alembic>=1.5.0 (from Optuna)\n",
            "  Downloading alembic-1.16.2-py3-none-any.whl.metadata (7.3 kB)\n",
            "Collecting colorlog (from Optuna)\n",
            "  Downloading colorlog-6.9.0-py3-none-any.whl.metadata (10 kB)\n",
            "Requirement already satisfied: numpy in /usr/local/lib/python3.11/dist-packages (from Optuna) (2.0.2)\n",
            "Requirement already satisfied: packaging>=20.0 in /usr/local/lib/python3.11/dist-packages (from Optuna) (24.2)\n",
            "Requirement already satisfied: sqlalchemy>=1.4.2 in /usr/local/lib/python3.11/dist-packages (from Optuna) (2.0.41)\n",
            "Requirement already satisfied: tqdm in /usr/local/lib/python3.11/dist-packages (from Optuna) (4.67.1)\n",
            "Requirement already satisfied: PyYAML in /usr/local/lib/python3.11/dist-packages (from Optuna) (6.0.2)\n",
            "Requirement already satisfied: Mako in /usr/lib/python3/dist-packages (from alembic>=1.5.0->Optuna) (1.1.3)\n",
            "Requirement already satisfied: typing-extensions>=4.12 in /usr/local/lib/python3.11/dist-packages (from alembic>=1.5.0->Optuna) (4.14.0)\n",
            "Requirement already satisfied: greenlet>=1 in /usr/local/lib/python3.11/dist-packages (from sqlalchemy>=1.4.2->Optuna) (3.2.3)\n",
            "Downloading optuna-4.4.0-py3-none-any.whl (395 kB)\n",
            "\u001b[2K   \u001b[90m━━━━━━━━━━━━━━━━━━━━━━━━━━━━━━━━━━━━━━━━\u001b[0m \u001b[32m395.9/395.9 kB\u001b[0m \u001b[31m7.4 MB/s\u001b[0m eta \u001b[36m0:00:00\u001b[0m\n",
            "\u001b[?25hDownloading alembic-1.16.2-py3-none-any.whl (242 kB)\n",
            "\u001b[2K   \u001b[90m━━━━━━━━━━━━━━━━━━━━━━━━━━━━━━━━━━━━━━━━\u001b[0m \u001b[32m242.7/242.7 kB\u001b[0m \u001b[31m9.4 MB/s\u001b[0m eta \u001b[36m0:00:00\u001b[0m\n",
            "\u001b[?25hDownloading colorlog-6.9.0-py3-none-any.whl (11 kB)\n",
            "Installing collected packages: colorlog, alembic, Optuna\n",
            "Successfully installed Optuna-4.4.0 alembic-1.16.2 colorlog-6.9.0\n"
          ]
        }
      ]
    },
    {
      "cell_type": "code",
      "source": [
        "import warnings\n",
        "\n",
        "# Ignore all warnings\n",
        "warnings.filterwarnings('ignore')"
      ],
      "metadata": {
        "id": "MWxuJppoR5jI"
      },
      "execution_count": 2,
      "outputs": []
    },
    {
      "cell_type": "code",
      "execution_count": 3,
      "metadata": {
        "id": "rxvMcSSzgjBr"
      },
      "outputs": [],
      "source": [
        "import os\n",
        "import pandas as pd\n",
        "import numpy as np\n",
        "from collections import Counter\n",
        "\n",
        "import optuna\n",
        "\n",
        "import seaborn as sns\n",
        "import matplotlib.pyplot as plt\n",
        "\n",
        "from xgboost import XGBRegressor\n",
        "\n",
        "from sklearn.model_selection import train_test_split,KFold,cross_val_score\n",
        "from sklearn.metrics import root_mean_squared_error as rmse\n",
        "from sklearn.metrics import mean_absolute_error as mae\n",
        "from sklearn.metrics import mean_squared_error as mse\n",
        "from sklearn.metrics import r2_score"
      ]
    },
    {
      "cell_type": "markdown",
      "source": [
        "# Paths"
      ],
      "metadata": {
        "id": "sLqMqkqDiEB2"
      }
    },
    {
      "cell_type": "code",
      "source": [
        "class config:\n",
        "  path = '/content/drive/MyDrive/Rebel Foods Assignment/DataScientist_CaseStudy_Dataset  (1) (1).xlsx'"
      ],
      "metadata": {
        "id": "COsTYL9IiDkd"
      },
      "execution_count": 4,
      "outputs": []
    },
    {
      "cell_type": "code",
      "source": [
        "df_dem = pd.read_excel(config.path,sheet_name = 'Soc_Dem')\n",
        "df_actBalance = pd.read_excel(config.path,sheet_name = 'Products_ActBalance')\n",
        "df_inflowOutflow = pd.read_excel(config.path, sheet_name = 'Inflow_Outflow')\n",
        "df_salesRevenue = pd.read_excel(config.path,sheet_name = 'Sales_Revenues')"
      ],
      "metadata": {
        "id": "fOSfQwLdiOsZ"
      },
      "execution_count": 5,
      "outputs": []
    },
    {
      "cell_type": "markdown",
      "source": [
        "# Mutual Fund Regression Model"
      ],
      "metadata": {
        "id": "Nn0-YxxB0moP"
      }
    },
    {
      "cell_type": "markdown",
      "source": [
        "### Data Perp\n",
        "\n",
        "1. NaNs can be filled with zero as most of them are realted to count and balances.\n",
        "\n"
      ],
      "metadata": {
        "id": "FUIH7dce1C2_"
      }
    },
    {
      "cell_type": "code",
      "source": [
        "mf_clients = df_salesRevenue.loc[df_salesRevenue['Sale_MF'] == 1]['Client'].tolist()"
      ],
      "metadata": {
        "id": "AnoFP0GTx3CT"
      },
      "execution_count": 6,
      "outputs": []
    },
    {
      "cell_type": "code",
      "source": [
        "df = df_dem.merge(df_actBalance, how= 'inner',on='Client').merge(df_inflowOutflow,how= 'inner',on='Client').merge(df_salesRevenue,how= 'inner',on='Client')\n"
      ],
      "metadata": {
        "id": "1MWFAbD91Rp4"
      },
      "execution_count": 7,
      "outputs": []
    },
    {
      "cell_type": "code",
      "source": [
        "df = df.loc[df['Sale_MF'] == 1]\n",
        "print(df.shape)"
      ],
      "metadata": {
        "colab": {
          "base_uri": "https://localhost:8080/"
        },
        "id": "CXfE-mJuxLAS",
        "outputId": "4e5231d7-5f35-486e-84d9-cee3f53a408e"
      },
      "execution_count": 8,
      "outputs": [
        {
          "output_type": "stream",
          "name": "stdout",
          "text": [
            "(193, 36)\n"
          ]
        }
      ]
    },
    {
      "cell_type": "code",
      "source": [
        "sexMapping = {'F':np.int16(0),'M':np.int16(1)}\n",
        "df['Sex'] = df['Sex'].map(sexMapping)\n",
        "df.fillna(0,inplace= True)"
      ],
      "metadata": {
        "id": "_7jAJ2AQ7XBO"
      },
      "execution_count": 9,
      "outputs": []
    },
    {
      "cell_type": "code",
      "source": [
        "df.drop(columns = ['Sale_CC', 'Sale_CL','Sale_MF', 'Revenue_CC', 'Revenue_CL'], inplace= True)"
      ],
      "metadata": {
        "id": "63XKXhlz7RET"
      },
      "execution_count": 10,
      "outputs": []
    },
    {
      "cell_type": "code",
      "source": [
        "df.columns"
      ],
      "metadata": {
        "colab": {
          "base_uri": "https://localhost:8080/"
        },
        "id": "ZBClOZ6T-asC",
        "outputId": "adb5442d-6936-49ea-e872-322e56e8daea"
      },
      "execution_count": 11,
      "outputs": [
        {
          "output_type": "execute_result",
          "data": {
            "text/plain": [
              "Index(['Client', 'Sex', 'Age', 'Tenure', 'Count_CA', 'Count_SA', 'Count_MF',\n",
              "       'Count_OVD', 'Count_CC', 'Count_CL', 'ActBal_CA', 'ActBal_SA',\n",
              "       'ActBal_MF', 'ActBal_OVD', 'ActBal_CC', 'ActBal_CL', 'VolumeCred',\n",
              "       'VolumeCred_CA', 'TransactionsCred', 'TransactionsCred_CA', 'VolumeDeb',\n",
              "       'VolumeDeb_CA', 'VolumeDebCash_Card', 'VolumeDebCashless_Card',\n",
              "       'VolumeDeb_PaymentOrder', 'TransactionsDeb', 'TransactionsDeb_CA',\n",
              "       'TransactionsDebCash_Card', 'TransactionsDebCashless_Card',\n",
              "       'TransactionsDeb_PaymentOrder', 'Revenue_MF'],\n",
              "      dtype='object')"
            ]
          },
          "metadata": {},
          "execution_count": 11
        }
      ]
    },
    {
      "cell_type": "markdown",
      "source": [
        "## Train Test Split"
      ],
      "metadata": {
        "id": "0e0eEiSw-778"
      }
    },
    {
      "cell_type": "code",
      "source": [
        "df_train , df_test = train_test_split( df, test_size= 0.2)"
      ],
      "metadata": {
        "id": "_ctfpgc55I0g"
      },
      "execution_count": 12,
      "outputs": []
    },
    {
      "cell_type": "code",
      "source": [
        "Q1 = df_train['Revenue_MF'].quantile(0.25)\n",
        "Q3 = df_train['Revenue_MF'].quantile(0.75)\n",
        "IQR = Q3 - Q1\n",
        "lower_bound = Q1 - 1.5 * IQR\n",
        "upper_bound = Q3 + 1.5 * IQR\n",
        "print(IQR)\n",
        "print(lower_bound)\n",
        "print(upper_bound)"
      ],
      "metadata": {
        "colab": {
          "base_uri": "https://localhost:8080/"
        },
        "id": "30mu1RVhLEVa",
        "outputId": "16ee8cb0-b201-4a45-9cfb-2b89ee2509db"
      },
      "execution_count": 13,
      "outputs": [
        {
          "output_type": "stream",
          "name": "stdout",
          "text": [
            "7.634955357142857\n",
            "-10.197924107142857\n",
            "20.341897321428572\n"
          ]
        }
      ]
    },
    {
      "cell_type": "code",
      "source": [
        "print(df_train.shape)\n",
        "df_train = df_train[(df_train['Revenue_MF'] >= lower_bound) & (df_train['Revenue_MF'] <= upper_bound)]\n",
        "print(df_train.shape)"
      ],
      "metadata": {
        "colab": {
          "base_uri": "https://localhost:8080/"
        },
        "id": "ooUFNEX-LKNW",
        "outputId": "b8c14183-d418-4989-8e3b-b8e70914bb61"
      },
      "execution_count": 14,
      "outputs": [
        {
          "output_type": "stream",
          "name": "stdout",
          "text": [
            "(154, 31)\n",
            "(136, 31)\n"
          ]
        }
      ]
    },
    {
      "cell_type": "code",
      "source": [
        "X = df_train.iloc[:,1:-1]\n",
        "y = df_train.iloc[:,-1]\n",
        "\n",
        "y_transformed = np.log1p(y)"
      ],
      "metadata": {
        "id": "R9aIYtCN_KMG"
      },
      "execution_count": 15,
      "outputs": []
    },
    {
      "cell_type": "code",
      "source": [
        "X_test = df_test.iloc[:,1:-1]\n",
        "y_test = df_test.iloc[:,-1]\n",
        "\n",
        "y_test_transformed = np.log1p(y_test)\n",
        "print(X_test.shape,y_test.shape)"
      ],
      "metadata": {
        "colab": {
          "base_uri": "https://localhost:8080/"
        },
        "id": "8lEdHgqVV052",
        "outputId": "b8358eb6-cfbf-4b90-ae59-6b8ab5957ed3"
      },
      "execution_count": 16,
      "outputs": [
        {
          "output_type": "stream",
          "name": "stdout",
          "text": [
            "(39, 29) (39,)\n"
          ]
        }
      ]
    },
    {
      "cell_type": "markdown",
      "source": [
        "# Hyperparameter"
      ],
      "metadata": {
        "id": "2WV4ob8G2jZY"
      }
    },
    {
      "cell_type": "code",
      "source": [
        "def objective_regressor(trial):\n",
        "    \"\"\"\n",
        "    Objective function for Optuna to optimize for XGBRegressor.\n",
        "    It trains an XGBoost Regressor with suggested hyperparameters and returns the\n",
        "    cross-validated negative RMSE score (to be maximized by Optuna).\n",
        "    \"\"\"\n",
        "    param = {\n",
        "        'objective': 'reg:squarederror',\n",
        "        'eval_metric': 'mae',\n",
        "        'booster': trial.suggest_categorical('booster', ['gbtree', 'dart']),\n",
        "        'tree_method': 'hist',\n",
        "        'n_estimators': trial.suggest_int('n_estimators', 50, 1000),\n",
        "        'learning_rate': trial.suggest_float('learning_rate', 0.01, 0.3, log=True),\n",
        "        'max_depth': trial.suggest_int('max_depth', 3, 10),\n",
        "        'subsample': trial.suggest_float('subsample', 0.6, 1.0),\n",
        "\n",
        "        'colsample_bytree': trial.suggest_float('colsample_bytree', 0.6, 1.0),\n",
        "        'colsample_bylevel': trial.suggest_float('colsample_bylevel', 0.6, 1.0),\n",
        "        'colsample_bynode': trial.suggest_float('colsample_bynode', 0.6, 1.0),\n",
        "\n",
        "        'min_child_weight': trial.suggest_float('min_child_weight', 1e-2, 10.0, log=True),\n",
        "        'gamma': trial.suggest_float('gamma', 1e-8, 0.5, log=True),\n",
        "        'lambda': trial.suggest_float('lambda', 1e-8, 100.0, log=True),\n",
        "        'alpha': trial.suggest_float('alpha', 1e-8, 100.0, log=True),\n",
        "        'random_state': 2025,\n",
        "        'n_jobs': -1,\n",
        "        'early_stopping_rounds':100\n",
        "    }\n",
        "\n",
        "    if param['booster'] == 'dart':\n",
        "        param['sample_type'] = trial.suggest_categorical('sample_type', ['uniform', 'weighted'])\n",
        "        param['normalize_type'] = trial.suggest_categorical('normalize_type', ['tree', 'forest'])\n",
        "        param['rate_drop'] = trial.suggest_float('rate_drop', 0.0, 0.5)\n",
        "        param['skip_drop'] = trial.suggest_float('skip_drop', 0.0, 0.5)\n",
        "\n",
        "    kf = KFold(n_splits=5, shuffle=True, random_state=2025)\n",
        "    mae_scores = []\n",
        "\n",
        "    for train_index, val_index in kf.split(X, y_transformed):\n",
        "        X_train_fold, X_val_fold = X.iloc[train_index], X.iloc[val_index]\n",
        "        y_train_fold, y_val_fold = y_transformed.iloc[train_index], y_transformed.iloc[val_index]\n",
        "\n",
        "        model = XGBRegressor(**param)\n",
        "\n",
        "        model.fit(X_train_fold, y_train_fold,\n",
        "                  eval_set=[(X_val_fold, y_val_fold)],\n",
        "                  verbose=False)\n",
        "\n",
        "        val_preds_transformed = model.predict(X_val_fold)\n",
        "\n",
        "        # inverse transform the target variables\n",
        "        val_preds_original_scale = np.expm1(val_preds_transformed)\n",
        "        val_preds_original_scale[val_preds_original_scale < 0] = 0\n",
        "\n",
        "        y_val_orig_for_rmse = y.iloc[val_index]\n",
        "\n",
        "        # Calculate RMSE for the fold\n",
        "        s = mae(y_val_orig_for_rmse, val_preds_original_scale)\n",
        "        mae_scores.append(s)\n",
        "\n",
        "    return np.mean(mae_scores)"
      ],
      "metadata": {
        "id": "WIlVL1QG2mKH"
      },
      "execution_count": 17,
      "outputs": []
    },
    {
      "cell_type": "code",
      "source": [
        "study_regressor = optuna.create_study(direction='minimize', sampler=optuna.samplers.TPESampler(seed=2025))\n",
        "print(\"Starting Optuna hyperparameter tuning for XGBRegressor...\")\n",
        "study_regressor.optimize(objective_regressor, n_trials=50, show_progress_bar=True)\n",
        "print(\"Optuna tuning complete.\")\n"
      ],
      "metadata": {
        "id": "3h25de-33e4e"
      },
      "execution_count": null,
      "outputs": []
    },
    {
      "cell_type": "code",
      "source": [
        "# --- 4. Get and Evaluate the Best Model ---\n",
        "\n",
        "print(\"\\nBest trial (XGBRegressor optimization):\")\n",
        "trial_regressor = study_regressor.best_trial\n",
        "\n",
        "# Optuna stores the negative RMSE, so convert back to positive RMSE for display\n",
        "print(f\"  Value (Mean CV MAE): {-trial_regressor.value:.4f}\")\n",
        "print(\"  Best Parameters:\")\n",
        "for key, value in trial_regressor.params.items():\n",
        "    print(f\"    {key}: {value}\")"
      ],
      "metadata": {
        "colab": {
          "base_uri": "https://localhost:8080/"
        },
        "id": "8PYnXLdc4TnV",
        "outputId": "97836db6-133e-4c06-d76f-0f63ae59773c"
      },
      "execution_count": 19,
      "outputs": [
        {
          "output_type": "stream",
          "name": "stdout",
          "text": [
            "\n",
            "Best trial (XGBRegressor optimization):\n",
            "  Value (Mean CV MAE): -2.9738\n",
            "  Best Parameters:\n",
            "    booster: dart\n",
            "    n_estimators: 619\n",
            "    learning_rate: 0.2552045567586908\n",
            "    max_depth: 8\n",
            "    subsample: 0.8223641526121315\n",
            "    colsample_bytree: 0.7552493766550321\n",
            "    colsample_bylevel: 0.8555057766119323\n",
            "    colsample_bynode: 0.9430128419689435\n",
            "    min_child_weight: 0.2793761821809969\n",
            "    gamma: 1.890688889100821e-06\n",
            "    lambda: 80.43790488137243\n",
            "    alpha: 0.14605884520896179\n",
            "    sample_type: weighted\n",
            "    normalize_type: tree\n",
            "    rate_drop: 0.007892492848136881\n",
            "    skip_drop: 0.012423753306300293\n"
          ]
        }
      ]
    },
    {
      "cell_type": "code",
      "source": [
        "best_params_regressor = trial_regressor.params\n",
        "final_model_regressor = XGBRegressor(**best_params_regressor,\n",
        "                                         objective='reg:squarederror', # Ensure objective is set\n",
        "                                         eval_metric='mae', # Eval metric for fitting\n",
        "                                         early_stopping_rounds = 100,\n",
        "                                          random_state=2025, n_jobs=-1)\n",
        "\n",
        "print(\"\\nTraining final XGBRegressor model with best parameters...\")\n",
        "final_model_regressor.fit(X, y_transformed,\n",
        "                          eval_set=[(X_test, y_test_transformed)],\n",
        "                          verbose=True)\n",
        "\n",
        "print(\"\\nEvaluating final XGBRegressor model on test set:\")\n",
        "\n",
        "y_test_preds_transformed = final_model_regressor.predict(X_test)\n",
        "\n",
        "# inverse transform the target variable\n",
        "y_test_preds_original_scale = np.expm1(y_test_preds_transformed)\n",
        "\n",
        "# Calculate regression metrics\n",
        "test_rmse = np.sqrt(mse(y_test, y_test_preds_original_scale))\n",
        "test_mae = mae(y_test, y_test_preds_original_scale)\n",
        "test_r2 = r2_score(y_test, y_test_preds_original_scale)\n",
        "\n",
        "print(f\"Test RMSE: {test_rmse:.4f}\")\n",
        "print(f\"Test MAE: {test_mae:.4f}\")\n",
        "print(f\"Test R-squared: {test_r2:.4f}\")"
      ],
      "metadata": {
        "colab": {
          "base_uri": "https://localhost:8080/"
        },
        "id": "GPVTc_dS3MsQ",
        "outputId": "a71e3afc-acac-415e-92d9-b105027c1e72"
      },
      "execution_count": 20,
      "outputs": [
        {
          "output_type": "stream",
          "name": "stdout",
          "text": [
            "\n",
            "Training final XGBRegressor model with best parameters...\n",
            "[0]\tvalidation_0-mae:1.02814\n",
            "[1]\tvalidation_0-mae:1.02517\n",
            "[2]\tvalidation_0-mae:1.02717\n",
            "[3]\tvalidation_0-mae:1.02696\n",
            "[4]\tvalidation_0-mae:1.03070\n",
            "[5]\tvalidation_0-mae:1.02909\n",
            "[6]\tvalidation_0-mae:1.02770\n",
            "[7]\tvalidation_0-mae:1.03050\n",
            "[8]\tvalidation_0-mae:1.03491\n",
            "[9]\tvalidation_0-mae:1.04219\n",
            "[10]\tvalidation_0-mae:1.04313\n",
            "[11]\tvalidation_0-mae:1.04538\n",
            "[12]\tvalidation_0-mae:1.04938\n",
            "[13]\tvalidation_0-mae:1.05729\n",
            "[14]\tvalidation_0-mae:1.06248\n",
            "[15]\tvalidation_0-mae:1.06567\n",
            "[16]\tvalidation_0-mae:1.06552\n",
            "[17]\tvalidation_0-mae:1.06527\n",
            "[18]\tvalidation_0-mae:1.06739\n",
            "[19]\tvalidation_0-mae:1.06512\n",
            "[20]\tvalidation_0-mae:1.06566\n",
            "[21]\tvalidation_0-mae:1.06866\n",
            "[22]\tvalidation_0-mae:1.06646\n",
            "[23]\tvalidation_0-mae:1.06643\n",
            "[24]\tvalidation_0-mae:1.06974\n",
            "[25]\tvalidation_0-mae:1.07088\n",
            "[26]\tvalidation_0-mae:1.07003\n",
            "[27]\tvalidation_0-mae:1.06917\n",
            "[28]\tvalidation_0-mae:1.07001\n",
            "[29]\tvalidation_0-mae:1.07369\n",
            "[30]\tvalidation_0-mae:1.07056\n",
            "[31]\tvalidation_0-mae:1.07269\n",
            "[32]\tvalidation_0-mae:1.07440\n",
            "[33]\tvalidation_0-mae:1.07484\n",
            "[34]\tvalidation_0-mae:1.07610\n",
            "[35]\tvalidation_0-mae:1.07627\n",
            "[36]\tvalidation_0-mae:1.07963\n",
            "[37]\tvalidation_0-mae:1.07813\n",
            "[38]\tvalidation_0-mae:1.08041\n",
            "[39]\tvalidation_0-mae:1.08429\n",
            "[40]\tvalidation_0-mae:1.08232\n",
            "[41]\tvalidation_0-mae:1.08217\n",
            "[42]\tvalidation_0-mae:1.08306\n",
            "[43]\tvalidation_0-mae:1.08229\n",
            "[44]\tvalidation_0-mae:1.08036\n",
            "[45]\tvalidation_0-mae:1.08140\n",
            "[46]\tvalidation_0-mae:1.08152\n",
            "[47]\tvalidation_0-mae:1.08235\n",
            "[48]\tvalidation_0-mae:1.08293\n",
            "[49]\tvalidation_0-mae:1.08174\n",
            "[50]\tvalidation_0-mae:1.08260\n",
            "[51]\tvalidation_0-mae:1.08482\n",
            "[52]\tvalidation_0-mae:1.08531\n",
            "[53]\tvalidation_0-mae:1.08567\n",
            "[54]\tvalidation_0-mae:1.08690\n",
            "[55]\tvalidation_0-mae:1.08754\n",
            "[56]\tvalidation_0-mae:1.08845\n",
            "[57]\tvalidation_0-mae:1.08922\n",
            "[58]\tvalidation_0-mae:1.08949\n",
            "[59]\tvalidation_0-mae:1.09121\n",
            "[60]\tvalidation_0-mae:1.09193\n",
            "[61]\tvalidation_0-mae:1.09425\n",
            "[62]\tvalidation_0-mae:1.09567\n",
            "[63]\tvalidation_0-mae:1.09823\n",
            "[64]\tvalidation_0-mae:1.09681\n",
            "[65]\tvalidation_0-mae:1.09778\n",
            "[66]\tvalidation_0-mae:1.09775\n",
            "[67]\tvalidation_0-mae:1.09676\n",
            "[68]\tvalidation_0-mae:1.09840\n",
            "[69]\tvalidation_0-mae:1.09637\n",
            "[70]\tvalidation_0-mae:1.09489\n",
            "[71]\tvalidation_0-mae:1.09593\n",
            "[72]\tvalidation_0-mae:1.09772\n",
            "[73]\tvalidation_0-mae:1.09564\n",
            "[74]\tvalidation_0-mae:1.09556\n",
            "[75]\tvalidation_0-mae:1.09480\n",
            "[76]\tvalidation_0-mae:1.09630\n",
            "[77]\tvalidation_0-mae:1.09748\n",
            "[78]\tvalidation_0-mae:1.09736\n",
            "[79]\tvalidation_0-mae:1.09902\n",
            "[80]\tvalidation_0-mae:1.10106\n",
            "[81]\tvalidation_0-mae:1.10248\n",
            "[82]\tvalidation_0-mae:1.10384\n",
            "[83]\tvalidation_0-mae:1.10318\n",
            "[84]\tvalidation_0-mae:1.10306\n",
            "[85]\tvalidation_0-mae:1.10328\n",
            "[86]\tvalidation_0-mae:1.10352\n",
            "[87]\tvalidation_0-mae:1.10456\n",
            "[88]\tvalidation_0-mae:1.10499\n",
            "[89]\tvalidation_0-mae:1.10675\n",
            "[90]\tvalidation_0-mae:1.10565\n",
            "[91]\tvalidation_0-mae:1.10571\n",
            "[92]\tvalidation_0-mae:1.10555\n",
            "[93]\tvalidation_0-mae:1.10467\n",
            "[94]\tvalidation_0-mae:1.10474\n",
            "[95]\tvalidation_0-mae:1.10458\n",
            "[96]\tvalidation_0-mae:1.10643\n",
            "[97]\tvalidation_0-mae:1.10584\n",
            "[98]\tvalidation_0-mae:1.10579\n",
            "[99]\tvalidation_0-mae:1.10700\n",
            "[100]\tvalidation_0-mae:1.10740\n",
            "\n",
            "Evaluating final XGBRegressor model on test set:\n",
            "Test RMSE: 18.6216\n",
            "Test MAE: 10.2576\n",
            "Test R-squared: -0.3041\n"
          ]
        }
      ]
    },
    {
      "cell_type": "code",
      "source": [
        "# Plotting actual vs. predicted values for visual inspection\n",
        "plt.figure(figsize=(10, 6))\n",
        "plt.scatter(y_test, y_test_preds_original_scale, alpha=0.3)\n",
        "plt.plot([y.min(), y.max()], [y.min(), y.max()], 'r--', lw=2) # Perfect prediction line\n",
        "plt.xlabel(\"Actual Values\")\n",
        "plt.ylabel(\"Predicted Values\")\n",
        "plt.title(\"XGBRegressor: Actual vs. Predicted on Test Set\")\n",
        "plt.grid(True)\n",
        "plt.show()"
      ],
      "metadata": {
        "colab": {
          "base_uri": "https://localhost:8080/",
          "height": 564
        },
        "id": "cfVT00RFAA5k",
        "outputId": "60a66063-6566-4958-fb75-f00786c00de6"
      },
      "execution_count": 23,
      "outputs": [
        {
          "output_type": "display_data",
          "data": {
            "text/plain": [
              "<Figure size 1000x600 with 1 Axes>"
            ],
            "image/png": "[encoded data removed]"
          },
          "metadata": {}
        }
      ]
    },
    {
      "cell_type": "code",
      "source": [
        "import seaborn as sns\n",
        "plt.figure(figsize=(8, 5))\n",
        "sns.histplot(y_train, bins=50, kde=True)\n",
        "plt.title(\"Distribution of Sales Values (Target Variable)\")\n",
        "plt.xlabel(\"Sales Value\")\n",
        "plt.ylabel(\"Count\")\n",
        "plt.show()"
      ],
      "metadata": {
        "colab": {
          "base_uri": "https://localhost:8080/",
          "height": 487
        },
        "id": "c0VpqejpAoZT",
        "outputId": "0c7ffe05-1890-4013-de9e-e9afecba4454"
      },
      "execution_count": 89,
      "outputs": [
        {
          "output_type": "display_data",
          "data": {
            "text/plain": [
              "<Figure size 800x500 with 1 Axes>"
            ],
            "image/png": "[encoded data removed]"
          },
          "metadata": {}
        }
      ]
    },
    {
      "cell_type": "markdown",
      "source": [
        "# Save Model"
      ],
      "metadata": {
        "id": "E56PDd4EOXPC"
      }
    },
    {
      "cell_type": "code",
      "source": [
        "final_model_regressor.save_model('/content/drive/MyDrive/Rebel Foods Assignment/Models/XGBRegressor_MF.json')"
      ],
      "metadata": {
        "id": "eoZY-athOW38"
      },
      "execution_count": 23,
      "outputs": []
    }
  ]
}